{
 "cells": [
  {
   "cell_type": "markdown",
   "metadata": {},
   "source": [
    "| **Author**          | **Roll No**   | **Version** |\n",
    "|---------------------|----------------|--------------|\n",
    "| Vinayak Rana        | 24210114       | 1.0          |"
   ]
  },
  {
   "cell_type": "code",
   "execution_count": 4,
   "metadata": {},
   "outputs": [],
   "source": [
    "import requests\n",
    "from bs4 import BeautifulSoup"
   ]
  },
  {
   "cell_type": "code",
   "execution_count": 5,
   "metadata": {},
   "outputs": [],
   "source": [
    "def extract_text(url):\n",
    "    response = requests.get(url)\n",
    "    page = BeautifulSoup(response.content,'html.parser')\n",
    "\n",
    "    book_link = 'https://www.authorama.com/'+page.find('a',string = 'Complete book')['href']\n",
    "    response = requests.get(book_link)\n",
    "    book = BeautifulSoup(response.content,'html.parser')\n",
    "\n",
    "    p_tags = book.find_all('p')\n",
    "    title = book.find('h1')\n",
    "    file_name = title.get_text()\n",
    "    file_path = 'Data/authorama_data/'+file_name\n",
    "\n",
    "    with open(file_path,'w') as f:\n",
    "        for tag in p_tags:\n",
    "            f.write(tag.get_text()+'\\n')\n",
    "    "
   ]
  },
  {
   "cell_type": "code",
   "execution_count": 6,
   "metadata": {},
   "outputs": [],
   "source": [
    "extract_text('https://www.authorama.com/two-years-before-the-mast-1.html')"
   ]
  },
  {
   "cell_type": "code",
   "execution_count": 7,
   "metadata": {},
   "outputs": [],
   "source": [
    "response = requests.get('https://www.authorama.com/')\n",
    "page = BeautifulSoup(response.content,'html.parser')\n",
    "\n",
    "main_page = page.find(class_='content')"
   ]
  },
  {
   "cell_type": "code",
   "execution_count": 8,
   "metadata": {},
   "outputs": [],
   "source": [
    "book_links = main_page.find_all('a')"
   ]
  },
  {
   "cell_type": "code",
   "execution_count": 9,
   "metadata": {},
   "outputs": [
    {
     "name": "stdout",
     "output_type": "stream",
     "text": [
      "Failure for link https://www.authorama.com/http://www.people.virginia.edu/~bhs2u/carroll/dodgson.html\n",
      "Failure for link https://www.authorama.com/world-2000-a-1.html\n",
      "Failure for link https://www.authorama.com/world-2000-b-1.html\n",
      "Failure for link https://www.authorama.com/world-2000-c-1.html\n",
      "Failure for link https://www.authorama.com/world-2000-d-1.html\n",
      "Failure for link https://www.authorama.com/world-2000-e-1.html\n",
      "Failure for link https://www.authorama.com/world-2000-f-1.html\n",
      "Failure for link https://www.authorama.com/world-2000-notes-1.html\n",
      "Failure for link https://www.authorama.com/flags.html\n",
      "Failure for link https://www.authorama.com/http://www.kirjasto.sci.fi/goethe.htm\n",
      "Failure for link https://www.authorama.com/short-stories-1.html\n",
      "Failure for link https://www.authorama.com/quotes/mark-twain.html\n",
      "Failure for link https://www.authorama.com/malay-archipelago-1-1.html\n",
      "Failure for link https://www.authorama.com/malay-archipelago-2-1.html\n",
      "Failure for link https://www.authorama.com/http://www.online-literature.com/wellshg/\n"
     ]
    }
   ],
   "source": [
    "links=[]\n",
    "for link in book_links[1:-4]:\n",
    "    if not link['href'].startswith('https'):\n",
    "        link = 'https://www.authorama.com/'+link['href']\n",
    "    else:\n",
    "        link = link['href']\n",
    "    try:\n",
    "        extract_text(link)\n",
    "        links.append(link)\n",
    "    except:\n",
    "        print(f'Failure for link {link}')"
   ]
  },
  {
   "cell_type": "code",
   "execution_count": null,
   "metadata": {},
   "outputs": [],
   "source": []
  }
 ],
 "metadata": {
  "kernelspec": {
   "display_name": ".venv",
   "language": "python",
   "name": "python3"
  },
  "language_info": {
   "codemirror_mode": {
    "name": "ipython",
    "version": 3
   },
   "file_extension": ".py",
   "mimetype": "text/x-python",
   "name": "python",
   "nbconvert_exporter": "python",
   "pygments_lexer": "ipython3",
   "version": "3.8.1"
  }
 },
 "nbformat": 4,
 "nbformat_minor": 2
}
