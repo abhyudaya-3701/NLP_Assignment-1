{
 "cells": [
  {
   "cell_type": "markdown",
   "metadata": {},
   "source": [
    "| **Author**          | **Roll No**   | **Version** |\n",
    "|---------------------|----------------|--------------|\n",
    "| Vinayak Rana        | 24210114       | 1.0          |"
   ]
  },
  {
   "cell_type": "code",
   "execution_count": 1,
   "metadata": {},
   "outputs": [],
   "source": [
    "import requests\n",
    "from bs4 import BeautifulSoup\n",
    "import re"
   ]
  },
  {
   "cell_type": "code",
   "execution_count": 2,
   "metadata": {},
   "outputs": [],
   "source": [
    "import requests\n",
    "from bs4 import BeautifulSoup\n",
    "import re\n",
    "\n",
    "def clean_text(text):\n",
    "    text = re.sub(r'\\n+', '\\n', text)\n",
    "    text = re.sub(r'\\s{2,}', ' ', text)\n",
    "    text = text.strip()\n",
    "    return text\n",
    "\n",
    "def scrap_page(url, title):\n",
    "    response = requests.get(url)\n",
    "    page = BeautifulSoup(response.content, 'html.parser')\n",
    "    \n",
    "    main_body = page.find(class_='scrtext')\n",
    "    \n",
    "    text = main_body.get_text(separator='\\n', strip=True)\n",
    "    cleaned_text = clean_text(text)\n",
    "    \n",
    "    file_path = f'Data/imsdb_data/{title}.txt'\n",
    "    with open(file_path, 'w', encoding='utf-8') as f:\n",
    "        f.write(cleaned_text)\n"
   ]
  },
  {
   "cell_type": "code",
   "execution_count": 3,
   "metadata": {},
   "outputs": [],
   "source": [
    "response = requests.get('https://imsdb.com/all-scripts.html')\n",
    "page = BeautifulSoup(response.content,'html.parser')"
   ]
  },
  {
   "cell_type": "code",
   "execution_count": 4,
   "metadata": {},
   "outputs": [],
   "source": [
    "main_body = page.find_all('td',{'valign':'top'})[2]\n",
    "script_links = main_body.find_all('a')"
   ]
  },
  {
   "cell_type": "code",
   "execution_count": 5,
   "metadata": {},
   "outputs": [
    {
     "data": {
      "text/plain": [
       "'/Movie Scripts/10 Things I Hate About You Script.html'"
      ]
     },
     "execution_count": 5,
     "metadata": {},
     "output_type": "execute_result"
    }
   ],
   "source": [
    "script_links[0]['href']"
   ]
  },
  {
   "cell_type": "code",
   "execution_count": 6,
   "metadata": {},
   "outputs": [
    {
     "name": "stdout",
     "output_type": "stream",
     "text": [
      "Failure for link https://imsdb.com/Movie Scripts/O Brother Where Art Thou? Script.html\n",
      "Failure for link https://imsdb.com/Movie Scripts/Officer and a Gentleman, An Script.html\n",
      "Failure for link https://imsdb.com/Movie Scripts/Outbreak Script.html\n",
      "Failure for link https://imsdb.com/Movie Scripts/Papadopoulos & Sons Script.html\n",
      "Failure for link https://imsdb.com/Movie Scripts/Robocop Script.html\n",
      "Failure for link https://imsdb.com/Movie Scripts/Romeo & Juliet Script.html\n",
      "Failure for link https://imsdb.com/Movie Scripts/Shadow of the Vampire Script.html\n",
      "Failure for link https://imsdb.com/Movie Scripts/Sneakers Script.html\n",
      "Failure for link https://imsdb.com/Movie Scripts/Speed Script.html\n",
      "Failure for link https://imsdb.com/Movie Scripts/Superfights Script.html\n",
      "Failure for link https://imsdb.com/Movie Scripts/Thelma & Louise Script.html\n",
      "Failure for link https://imsdb.com/Movie Scripts/Troy Script.html\n",
      "Failure for link https://imsdb.com/Movie Scripts/Unforgiven Script.html\n",
      "Failure for link https://imsdb.com/Movie Scripts/Valentine's Day Script.html\n",
      "Failure for link https://imsdb.com/Movie Scripts/Vertigo Script.html\n",
      "Failure for link https://imsdb.com/Movie Scripts/What About Bob? Script.html\n",
      "Failure for link https://imsdb.com/Movie Scripts/When Harry Met Sally Script.html\n",
      "Failure for link https://imsdb.com/Movie Scripts/Who Framed Roger Rabbit? Script.html\n"
     ]
    }
   ],
   "source": [
    "flag = False\n",
    "for item in script_links:\n",
    "    link = 'https://imsdb.com'+item['href']\n",
    "\n",
    "    response = requests.get(link)\n",
    "    page = BeautifulSoup(response.content,'html.parser')\n",
    "    try:\n",
    "        main_body = page.find(class_='script-details')\n",
    "        script_link = main_body.find_all('a')[-1]\n",
    "        # print(link)\n",
    "        if script_link['href'] == '/scripts/Nurse-Betty.html':\n",
    "            flag = True\n",
    "            continue\n",
    "        if not flag:\n",
    "            continue\n",
    "        \n",
    "        scrap_page('https://imsdb.com/'+script_link['href'],item['title'])\n",
    "    except:\n",
    "        print(f'Failure for link {link}')"
   ]
  },
  {
   "cell_type": "code",
   "execution_count": null,
   "metadata": {},
   "outputs": [],
   "source": []
  }
 ],
 "metadata": {
  "kernelspec": {
   "display_name": ".venv",
   "language": "python",
   "name": "python3"
  },
  "language_info": {
   "codemirror_mode": {
    "name": "ipython",
    "version": 3
   },
   "file_extension": ".py",
   "mimetype": "text/x-python",
   "name": "python",
   "nbconvert_exporter": "python",
   "pygments_lexer": "ipython3",
   "version": "3.8.1"
  }
 },
 "nbformat": 4,
 "nbformat_minor": 2
}
